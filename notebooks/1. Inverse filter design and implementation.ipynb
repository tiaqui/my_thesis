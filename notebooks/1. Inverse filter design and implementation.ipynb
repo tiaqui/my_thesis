{
 "cells": [
  {
   "cell_type": "markdown",
   "metadata": {},
   "source": [
    "# 1. Inverse filter design and implementation\n",
    "\n",
    "The first step in the signal processing for the device is to **implement a filter that allow us to correct the microphone's characteristic response**. Since we assume that we are dealing with an **LTI system** (linear and time-invariant system), the idea is to obtain the frequency response of the microphone in order to then design a **filter based on the inverse system**.\n",
    "\n",
    "**By applying this inverse response, we would then linearize the system response**. So first thing first, we need the system response, for that we've made a measurement in a semi-anechoic room where we compared and average the **response of our system** (henceforth the **device under test or DUT**) with that of a system that is consider to be **linear in the frequency interval of interest**. This is comprised of an **Earthworks M50 ominidirectional measurement microphone** and a **RME Fireface audio interface**. \n",
    "\n",
    "Calculating the **transfer function between both systems** we can get rid of the undesired effects of the room, the background noise, and the sound source (among others), since we assume that an approximate equal signal incides on both transducers. So we would finally get the **desired system's frequency response**.\n",
    "\n",
    "The basic block diagram of the measurement is as follows:\n",
    "(!img/freq_response.jpg)[]\n",
    "(img/freq_response.jpg)[]\n",
    "(!)[img/freq_response.jpg]\n",
    "(!)[!img/freq_response.jpg]"
   ]
  },
  {
   "cell_type": "code",
   "execution_count": 2,
   "metadata": {},
   "outputs": [],
   "source": [
    "import numpy as np\n",
    "import sounddevice as sd"
   ]
  }
 ],
 "metadata": {
  "kernelspec": {
   "display_name": "Python 3",
   "language": "python",
   "name": "python3"
  },
  "language_info": {
   "codemirror_mode": {
    "name": "ipython",
    "version": 3
   },
   "file_extension": ".py",
   "mimetype": "text/x-python",
   "name": "python",
   "nbconvert_exporter": "python",
   "pygments_lexer": "ipython3",
   "version": "3.7.7"
  }
 },
 "nbformat": 4,
 "nbformat_minor": 4
}
