{
 "cells": [
  {
   "cell_type": "markdown",
   "metadata": {},
   "source": [
    "## 2. A, C and Z frequency weightings\n",
    "\n",
    "After we compensate the input signal by means of the designed inverse filter, the next step is to pass its output to the **frequency weighting network**.\n",
    "\n",
    "The purpose of these frequency weighting networks is to adapt the measurements results to the **natural behaviour of the human ear**. As we know, **the relationship between the subjective perception of sound intensity (loudness) and the actual sound pressure level is not linear throughout the frequency spectrum**. We are more sensitive in the frequency range from around 500 Hz to 6 kHz. Moreover, **this behaviour varies with the actual sound pressure level of the signal**.\n",
    "\n",
    "The **A frequency weighting** provides a way to take into account the loudness percieved throughout the frequency spectrum as compared to a **1 kHz tone at 40 dBSPL**, this is know as **40 fons**. On the other hand, the **C frequency weighting** applies the same logic but at a **100 fon** level. As for the **Z frequency weighting** well, it actually means no weighting at all ¯\\\\_(ツ)_/¯.\n",
    "\n",
    "## Designing the filters\n",
    "\n",
    "The frequency weighitngs that are used on sound level meters are defined in the **IEC 61672 standard**. In it the tolerance limits are defined for the three mentioned weightings, as well as the **procedure to correctly design them**.\n",
    "\n",
    "The standard specifies the **transfer function** that describes each filter, for the case of the **A weighting filter** this is:\n",
    "\n",
    "$$A(s)= \\dfrac{1.2589049 \\ x \\ 76617.2^2s^4}{(s + 129.43)^2(s + 676.7)(s + 4636.36)(s + 76617.2)^2}$$\n",
    "\n",
    "Since this equation is given in the **analog complex-frequency _s_-domain** we need to map that to the **_z_ digital domain**. This is done through the **Laplace transform** and applying the **bilineal transform**. This way we can then **implement a digital filter based on this equation**.\n",
    "\n",
    "The **digital filter** will be **defined by the location of the poles and zeros the within the unit-circle**. We'll define the **zero-pole-gain system** for the **A and C frequency weightings**, as extracted from the standard and do the necessary steps to obtain our digital filters."
   ]
  },
  {
   "cell_type": "code",
   "execution_count": 1,
   "metadata": {},
   "outputs": [],
   "source": [
    "import numpy as np\n",
    "import matplotlib.pyplot as plt\n",
    "import seaborn as sns\n",
    "\n",
    "plt.rcParams[\"figure.figsize\"] = (15,9)\n",
    "sns.set_context('notebook', font_scale=1.2)\n",
    "\n",
    "## Zero-pole-gain system extracted as calculated\n",
    "## from the IEC 61672 standard\n",
    "## - - - - - - - - - - - - - - -\n",
    "\n",
    "# C weighting\n",
    "z_c = np.array([0, 0])\n",
    "p_c = np.array([-2*np.pi*20.598997057568145, \n",
    "                -2*np.pi*20.598997057568145,\n",
    "                -2*np.pi*12194.21714799801,\n",
    "                -2*np.pi*12194.21714799801])\n",
    "k_c = (10**(0.062/20))*p_c[3]**2\n",
    "\n",
    "# A weighting\n",
    "z_a = np.append(z_c, [0, 0])\n",
    "p_a = np.insert(p_c, \n",
    "                [2, 2], \n",
    "                [-2*np.pi*107.65264864304628, \n",
    "                -2*np.pi*737.8622307362899])\n",
    "k_a = (10**(2/20))*p_a[4]**2"
   ]
  },
  {
   "cell_type": "markdown",
   "metadata": {},
   "source": [
    "Having our **zero-pole-gain systems** we can start to design the filters. As we can see the coefficients for the A weighting filter, draw from the ones given for the C weighting."
   ]
  },
  {
   "cell_type": "code",
   "execution_count": 2,
   "metadata": {},
   "outputs": [
    {
     "data": {
      "text/plain": [
       "array([  -129.42731565,   -129.42731565,   -676.40154023,  -4636.12512689,\n",
       "       -76618.52601686, -76618.52601686])"
      ]
     },
     "execution_count": 2,
     "metadata": {},
     "output_type": "execute_result"
    }
   ],
   "source": [
    "p_a"
   ]
  },
  {
   "cell_type": "code",
   "execution_count": 32,
   "metadata": {},
   "outputs": [],
   "source": []
  },
  {
   "cell_type": "code",
   "execution_count": null,
   "metadata": {},
   "outputs": [],
   "source": []
  }
 ],
 "metadata": {
  "kernelspec": {
   "display_name": "Python 3",
   "language": "python",
   "name": "python3"
  },
  "language_info": {
   "codemirror_mode": {
    "name": "ipython",
    "version": 3
   },
   "file_extension": ".py",
   "mimetype": "text/x-python",
   "name": "python",
   "nbconvert_exporter": "python",
   "pygments_lexer": "ipython3",
   "version": "3.7.7"
  }
 },
 "nbformat": 4,
 "nbformat_minor": 4
}
